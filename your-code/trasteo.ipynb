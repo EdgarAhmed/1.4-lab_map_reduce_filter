{
 "cells": [
  {
   "cell_type": "code",
   "execution_count": 1,
   "id": "5569eb2a",
   "metadata": {},
   "outputs": [
    {
     "ename": "ModuleNotFoundError",
     "evalue": "No module named 'numpy'",
     "output_type": "error",
     "traceback": [
      "\u001b[0;31m---------------------------------------------------------------------------\u001b[0m",
      "\u001b[0;31mModuleNotFoundError\u001b[0m                       Traceback (most recent call last)",
      "Cell \u001b[0;32mIn[1], line 3\u001b[0m\n\u001b[1;32m      1\u001b[0m \u001b[38;5;66;03m# import reduce from functools, numpy and pandas\u001b[39;00m\n\u001b[1;32m      2\u001b[0m \u001b[38;5;28;01mfrom\u001b[39;00m \u001b[38;5;21;01mfunctools\u001b[39;00m \u001b[38;5;28;01mimport\u001b[39;00m reduce\n\u001b[0;32m----> 3\u001b[0m \u001b[38;5;28;01mimport\u001b[39;00m \u001b[38;5;21;01mnumpy\u001b[39;00m \u001b[38;5;28;01mas\u001b[39;00m \u001b[38;5;21;01mnp\u001b[39;00m\n\u001b[1;32m      4\u001b[0m \u001b[38;5;28;01mimport\u001b[39;00m \u001b[38;5;21;01mpandas\u001b[39;00m \u001b[38;5;28;01mas\u001b[39;00m \u001b[38;5;21;01mpd\u001b[39;00m\n\u001b[1;32m      5\u001b[0m \u001b[38;5;28;01mimport\u001b[39;00m \u001b[38;5;21;01mmath\u001b[39;00m\n",
      "\u001b[0;31mModuleNotFoundError\u001b[0m: No module named 'numpy'"
     ]
    }
   ],
   "source": [
    "# import reduce from functools, numpy and pandas\n",
    "from functools import reduce\n",
    "import numpy as np\n",
    "import pandas as pd\n",
    "import math"
   ]
  },
  {
   "cell_type": "code",
   "execution_count": null,
   "id": "e9f486b1",
   "metadata": {},
   "outputs": [],
   "source": [
    "import random"
   ]
  },
  {
   "cell_type": "code",
   "execution_count": 2,
   "id": "25b7d7b6",
   "metadata": {},
   "outputs": [],
   "source": [
    "import math"
   ]
  },
  {
   "cell_type": "markdown",
   "id": "4c5b4b72",
   "metadata": {},
   "source": [
    "# Create 4 lists of 10 random numbers between 0 and 100 each. Use random_lists as the name of the list. \n",
    "**Hint: You will probably need to import random module**\n",
    "\n",
    "Remember to use list comprehensions and to print your results"
   ]
  },
  {
   "cell_type": "code",
   "execution_count": 3,
   "id": "319455f6",
   "metadata": {},
   "outputs": [
    {
     "ename": "NameError",
     "evalue": "name 'list_length' is not defined",
     "output_type": "error",
     "traceback": [
      "\u001b[0;31m---------------------------------------------------------------------------\u001b[0m",
      "\u001b[0;31mNameError\u001b[0m                                 Traceback (most recent call last)",
      "Cell \u001b[0;32mIn[3], line 7\u001b[0m\n\u001b[1;32m      4\u001b[0m     min_value\u001b[38;5;241m=\u001b[39m\u001b[38;5;241m0\u001b[39m\n\u001b[1;32m      5\u001b[0m     max_value\u001b[38;5;241m=\u001b[39m\u001b[38;5;241m100\u001b[39m\n\u001b[0;32m----> 7\u001b[0m random_numbers\u001b[38;5;241m=\u001b[39m [random\u001b[38;5;241m.\u001b[39mrandint(min_value, max_value) \u001b[38;5;28;01mfor\u001b[39;00m a \u001b[38;5;129;01min\u001b[39;00m \u001b[38;5;28mrange\u001b[39m(\u001b[43mlist_length\u001b[49m)]\n\u001b[1;32m      9\u001b[0m \u001b[38;5;28mprint\u001b[39m(\u001b[38;5;124m'\u001b[39m\u001b[38;5;124mlista_1:\u001b[39m\u001b[38;5;124m'\u001b[39m, random_numbers)\n",
      "\u001b[0;31mNameError\u001b[0m: name 'list_length' is not defined"
     ]
    }
   ],
   "source": [
    "def list_1 (random_numbers):\n",
    "\n",
    "    list_length=10\n",
    "    min_value=0\n",
    "    max_value=100\n",
    "    \n",
    "random_numbers= [random.randint(min_value, max_value) for a in range(list_length)]\n",
    "    \n",
    "print('lista_1:', random_numbers)\n",
    "    \n"
   ]
  },
  {
   "cell_type": "code",
   "execution_count": null,
   "id": "0c8565d9",
   "metadata": {},
   "outputs": [],
   "source": []
  },
  {
   "cell_type": "code",
   "execution_count": null,
   "id": "2123ca1a",
   "metadata": {},
   "outputs": [],
   "source": []
  },
  {
   "cell_type": "code",
   "execution_count": 4,
   "id": "0479a0cb",
   "metadata": {},
   "outputs": [
    {
     "name": "stdout",
     "output_type": "stream",
     "text": [
      "lista_1: [59, 68, 5, 99, 62, 13, 90, 19, 23, 72]\n"
     ]
    }
   ],
   "source": [
    "import random\n",
    "\n",
    "list_length = 10  # You can change this to the desired length\n",
    "min_value = 0\n",
    "max_value = 100  # You can change this to set the range of random numbers\n",
    "\n",
    "random_numbers = [random.randint(min_value, max_value) for _ in range(list_length)]\n",
    "\n",
    "print('lista_1:', random_numbers)\n",
    "\n",
    "\n"
   ]
  },
  {
   "cell_type": "code",
   "execution_count": 5,
   "id": "77456f8a",
   "metadata": {},
   "outputs": [
    {
     "name": "stdout",
     "output_type": "stream",
     "text": [
      "Lista 1: [76, 6, 11, 100, 78, 48, 45, 80, 95, 8]\n",
      "Lista 2: [89, 50, 65, 72, 74, 20, 80, 0, 34, 29]\n",
      "Lista 3: [94, 87, 51, 81, 90, 61, 8, 20, 66, 32]\n",
      "Lista 4: [38, 46, 40, 64, 100, 100, 98, 1, 29, 76]\n"
     ]
    }
   ],
   "source": [
    "import random\n",
    "\n",
    "def list_1():\n",
    "    list_length = 10\n",
    "    min_value = 0\n",
    "    max_value = 100\n",
    "    \n",
    "    random_lists = []\n",
    "\n",
    "    for _ in range(4):\n",
    "        random_numbers = [random.randint(min_value, max_value) for _ in range(list_length)]\n",
    "        random_lists.append(random_numbers)\n",
    "\n",
    "    return random_lists\n",
    "\n",
    "# Llamamos a la función y almacenamos las 4 listas en una variable\n",
    "four_random_lists = list_1()\n",
    "\n",
    "# Imprimimos las 4 listas\n",
    "for i, random_list in enumerate(four_random_lists):\n",
    "    print(f'Lista {i + 1}: {random_list}')\n"
   ]
  },
  {
   "cell_type": "markdown",
   "id": "ce3554de",
   "metadata": {},
   "source": [
    "Calculate the square number of the first 20 numbers. Use square as the name of the list."
   ]
  },
  {
   "cell_type": "code",
   "execution_count": 6,
   "id": "5c918f6b",
   "metadata": {},
   "outputs": [
    {
     "name": "stdout",
     "output_type": "stream",
     "text": [
      "[1, 2, 3, 4, 5, 6, 7, 8, 9, 10, 11, 12, 13, 14, 15, 16, 17, 18, 19, 20]\n"
     ]
    }
   ],
   "source": [
    "primeros_20_numeros = list(range(1, 21))\n",
    "print(primeros_20_numeros)\n"
   ]
  },
  {
   "cell_type": "code",
   "execution_count": 7,
   "id": "ab65c72b",
   "metadata": {},
   "outputs": [
    {
     "name": "stdout",
     "output_type": "stream",
     "text": [
      "1234567891011121314151617181920\n"
     ]
    }
   ],
   "source": [
    "primeros_20_numeros = int(''.join(map(str, primeros_20_numeros)))\n",
    "print(primeros_20_numeros)\n"
   ]
  },
  {
   "cell_type": "code",
   "execution_count": 8,
   "id": "fd2601c9",
   "metadata": {},
   "outputs": [
    {
     "name": "stdout",
     "output_type": "stream",
     "text": [
      "<function suma_20 at 0x107b25240>\n"
     ]
    }
   ],
   "source": [
    "def suma_20 (x):\n",
    "    len(20)\n",
    "    return x+1\n",
    "\n",
    "print(suma_20)"
   ]
  },
  {
   "cell_type": "code",
   "execution_count": null,
   "id": "a479d42f",
   "metadata": {},
   "outputs": [],
   "source": []
  },
  {
   "cell_type": "code",
   "execution_count": 9,
   "id": "45299044",
   "metadata": {},
   "outputs": [
    {
     "name": "stdout",
     "output_type": "stream",
     "text": [
      "[]\n"
     ]
    }
   ],
   "source": [
    "list_20 = []\n",
    "\n",
    "suma_20 = list_20\n",
    "\n",
    "print (list_20)"
   ]
  },
  {
   "cell_type": "code",
   "execution_count": 10,
   "id": "c66639e1",
   "metadata": {},
   "outputs": [
    {
     "ename": "TypeError",
     "evalue": "math.sqrt() takes exactly one argument (0 given)",
     "output_type": "error",
     "traceback": [
      "\u001b[0;31m---------------------------------------------------------------------------\u001b[0m",
      "\u001b[0;31mTypeError\u001b[0m                                 Traceback (most recent call last)",
      "Cell \u001b[0;32mIn[10], line 1\u001b[0m\n\u001b[0;32m----> 1\u001b[0m \u001b[43mmath\u001b[49m\u001b[38;5;241;43m.\u001b[39;49m\u001b[43msqrt\u001b[49m\u001b[43m(\u001b[49m\u001b[43m)\u001b[49m\n",
      "\u001b[0;31mTypeError\u001b[0m: math.sqrt() takes exactly one argument (0 given)"
     ]
    }
   ],
   "source": [
    "math.sqrt()"
   ]
  },
  {
   "cell_type": "code",
   "execution_count": 11,
   "id": "3d4fdd96",
   "metadata": {},
   "outputs": [
    {
     "name": "stdout",
     "output_type": "stream",
     "text": [
      "Raíz cuadrada de 1: 1.0\n",
      "Raíz cuadrada de 2: 1.4142135623730951\n",
      "Raíz cuadrada de 3: 1.7320508075688772\n",
      "Raíz cuadrada de 4: 2.0\n",
      "Raíz cuadrada de 5: 2.23606797749979\n",
      "Raíz cuadrada de 6: 2.449489742783178\n",
      "Raíz cuadrada de 7: 2.6457513110645907\n",
      "Raíz cuadrada de 8: 2.8284271247461903\n",
      "Raíz cuadrada de 9: 3.0\n",
      "Raíz cuadrada de 10: 3.1622776601683795\n",
      "Raíz cuadrada de 11: 3.3166247903554\n",
      "Raíz cuadrada de 12: 3.4641016151377544\n",
      "Raíz cuadrada de 13: 3.605551275463989\n",
      "Raíz cuadrada de 14: 3.7416573867739413\n",
      "Raíz cuadrada de 15: 3.872983346207417\n",
      "Raíz cuadrada de 16: 4.0\n",
      "Raíz cuadrada de 17: 4.123105625617661\n",
      "Raíz cuadrada de 18: 4.242640687119285\n",
      "Raíz cuadrada de 19: 4.358898943540674\n",
      "Raíz cuadrada de 20: 4.47213595499958\n"
     ]
    }
   ],
   "source": [
    "import math\n",
    "\n",
    "primeros_20_numeros = list(range(1, 21))\n",
    "\n",
    "def calcular_raiz_cuadrada(lista_numeros):\n",
    "    raices_cuadradas = [math.sqrt(numero) for numero in lista_numeros]\n",
    "    return raices_cuadradas\n",
    "\n",
    "raices = calcular_raiz_cuadrada(primeros_20_numeros)\n",
    "\n",
    "for i, numero in enumerate(primeros_20_numeros):\n",
    "    raiz = raices[i]\n",
    "    print(f'Raíz cuadrada de {numero}: {raiz}')\n"
   ]
  },
  {
   "cell_type": "markdown",
   "id": "59506d20",
   "metadata": {},
   "source": [
    "# Find all of the numbers from 1-1000 that are divisible by 7. Use divisible_by_seven as the name of the list.\n",
    "Remember to use list comprehensions and to print your results"
   ]
  },
  {
   "cell_type": "code",
   "execution_count": 12,
   "id": "1c6e5ce1",
   "metadata": {},
   "outputs": [],
   "source": [
    "numeros_1000 = list(range(1,1000))  "
   ]
  },
  {
   "cell_type": "code",
   "execution_count": null,
   "id": "afb4cbc3",
   "metadata": {},
   "outputs": [],
   "source": [
    "\n",
    "for n in numeros_1000:\n",
    "    if n%7==0:\n",
    "        numeros_1000.append(n)\n",
    "    else:\n",
    "        pass\n",
    "    \n",
    "print(numeros_1000)"
   ]
  },
  {
   "cell_type": "code",
   "execution_count": 1,
   "id": "72969abc",
   "metadata": {},
   "outputs": [
    {
     "name": "stdout",
     "output_type": "stream",
     "text": [
      "[7, 14, 21, 28, 35, 42, 49, 56, 63, 70, 77, 84, 91, 98, 105, 112, 119, 126, 133, 140, 147, 154, 161, 168, 175, 182, 189, 196, 203, 210, 217, 224, 231, 238, 245, 252, 259, 266, 273, 280, 287, 294, 301, 308, 315, 322, 329, 336, 343, 350, 357, 364, 371, 378, 385, 392, 399, 406, 413, 420, 427, 434, 441, 448, 455, 462, 469, 476, 483, 490, 497, 504, 511, 518, 525, 532, 539, 546, 553, 560, 567, 574, 581, 588, 595, 602, 609, 616, 623, 630, 637, 644, 651, 658, 665, 672, 679, 686, 693, 700, 707, 714, 721, 728, 735, 742, 749, 756, 763, 770, 777, 784, 791, 798, 805, 812, 819, 826, 833, 840, 847, 854, 861, 868, 875, 882, 889, 896, 903, 910, 917, 924, 931, 938, 945, 952, 959, 966, 973, 980, 987, 994]\n"
     ]
    }
   ],
   "source": [
    "# Create a list of numbers from 1 to 1000 that are divisible by 7\n",
    "divisible_by_seven = [num for num in range(1, 1001) if num % 7 == 0]\n",
    "\n",
    "# Print the list\n",
    "print(divisible_by_seven)\n"
   ]
  },
  {
   "cell_type": "code",
   "execution_count": null,
   "id": "f311a820",
   "metadata": {},
   "outputs": [],
   "source": []
  },
  {
   "cell_type": "code",
   "execution_count": null,
   "id": "64e9e60e",
   "metadata": {},
   "outputs": [],
   "source": []
  },
  {
   "cell_type": "markdown",
   "id": "b35babe8",
   "metadata": {},
   "source": [
    "Remove all of the vowels in a string. Hint: make a list of the non-vowels. Use non_vowels as the name of the list.\n",
    "Remember to use list comprehensions and to print your results\n",
    "\n",
    "teststring = 'Find all of the words in a string that are monosyllabic'"
   ]
  },
  {
   "cell_type": "code",
   "execution_count": 3,
   "id": "176ca454",
   "metadata": {},
   "outputs": [
    {
     "name": "stdout",
     "output_type": "stream",
     "text": [
      "Fnd ll f th wrds n  strng tht r mnsyllbc\n"
     ]
    }
   ],
   "source": [
    "sentence = 'Find all of the words in a string that are monosyllabic'\n",
    "vowels = \"AEIOUaeiou\"\n",
    "non_vowels = \"\"\n",
    "    \n",
    "for x in sentence:\n",
    "    if x not in vowels:\n",
    "        non_vowels += x\n",
    "        \n",
    "print(non_vowels)"
   ]
  },
  {
   "cell_type": "markdown",
   "id": "f99f29a2",
   "metadata": {},
   "source": [
    "Find the capital letters (and not white space) in the sentence 'The Quick Brown Fox Jumped Over The Lazy Dog'.\n",
    "Use capital_letters as the name of the list.\n",
    "Remember to use list comprehensions and to print your results\n",
    "\n"
   ]
  },
  {
   "cell_type": "code",
   "execution_count": 8,
   "id": "99d78299",
   "metadata": {},
   "outputs": [
    {
     "name": "stdout",
     "output_type": "stream",
     "text": [
      "['T', 'Q', 'B', 'F', 'J', 'O', 'T', 'L', 'D']\n"
     ]
    }
   ],
   "source": [
    "sentence = 'The Quick Brown Fox Jumped Over The Lazy Dog'\n",
    "\n",
    "capital_letters = [x for x in sentence if x.isupper() and not x.isspace()]\n",
    "\n",
    "print(capital_letters)\n"
   ]
  },
  {
   "cell_type": "markdown",
   "id": "7599b967",
   "metadata": {},
   "source": [
    "'The quick brown fox jumped over the lazy dog'.\n",
    "Find all the consonants in the sentence 'The quick brown fox jumped over the lazy dog'."
   ]
  },
  {
   "cell_type": "code",
   "execution_count": 11,
   "id": "42b1b582",
   "metadata": {},
   "outputs": [
    {
     "name": "stdout",
     "output_type": "stream",
     "text": [
      "Th qck brwn fx jmpd vr th lzy dg\n"
     ]
    }
   ],
   "source": [
    "sentence = 'The quick brown fox jumped over the lazy dog'\n",
    "consonats = \"ABCDEFGHIJKLMNOPQRSTUVWXYZ\"\n",
    "non_vowels = \"\"\n",
    "    \n",
    "for x in sentence:\n",
    "    if x not in vowels:\n",
    "        non_vowels += x\n",
    "        \n",
    "print(non_vowels)"
   ]
  },
  {
   "cell_type": "code",
   "execution_count": null,
   "id": "3880fe6c",
   "metadata": {},
   "outputs": [],
   "source": []
  },
  {
   "cell_type": "code",
   "execution_count": null,
   "id": "b2438105",
   "metadata": {},
   "outputs": [],
   "source": [
    "list_of_lists = [[1,2,3],[4,5,6],[7,8,9]]"
   ]
  },
  {
   "cell_type": "code",
   "execution_count": 12,
   "id": "916f8958",
   "metadata": {},
   "outputs": [
    {
     "ename": "FileNotFoundError",
     "evalue": "[Errno 2] No such file or directory: 'testfile'",
     "output_type": "error",
     "traceback": [
      "\u001b[0;31m---------------------------------------------------------------------------\u001b[0m",
      "\u001b[0;31mFileNotFoundError\u001b[0m                         Traceback (most recent call last)",
      "Cell \u001b[0;32mIn[12], line 1\u001b[0m\n\u001b[0;32m----> 1\u001b[0m f \u001b[38;5;241m=\u001b[39m \u001b[38;5;28;43mopen\u001b[39;49m\u001b[43m(\u001b[49m\u001b[38;5;124;43m'\u001b[39;49m\u001b[38;5;124;43mtestfile\u001b[39;49m\u001b[38;5;124;43m'\u001b[39;49m\u001b[43m,\u001b[49m\u001b[38;5;124;43m'\u001b[39;49m\u001b[38;5;124;43mr\u001b[39;49m\u001b[38;5;124;43m'\u001b[39;49m\u001b[43m)\u001b[49m\n\u001b[1;32m      2\u001b[0m f\u001b[38;5;241m.\u001b[39mwrite(\u001b[38;5;124m'\u001b[39m\u001b[38;5;124mTest write this\u001b[39m\u001b[38;5;124m'\u001b[39m)\n",
      "File \u001b[0;32m~/anaconda3/envs/clase/lib/python3.10/site-packages/IPython/core/interactiveshell.py:286\u001b[0m, in \u001b[0;36m_modified_open\u001b[0;34m(file, *args, **kwargs)\u001b[0m\n\u001b[1;32m    279\u001b[0m \u001b[38;5;28;01mif\u001b[39;00m file \u001b[38;5;129;01min\u001b[39;00m {\u001b[38;5;241m0\u001b[39m, \u001b[38;5;241m1\u001b[39m, \u001b[38;5;241m2\u001b[39m}:\n\u001b[1;32m    280\u001b[0m     \u001b[38;5;28;01mraise\u001b[39;00m \u001b[38;5;167;01mValueError\u001b[39;00m(\n\u001b[1;32m    281\u001b[0m         \u001b[38;5;124mf\u001b[39m\u001b[38;5;124m\"\u001b[39m\u001b[38;5;124mIPython won\u001b[39m\u001b[38;5;124m'\u001b[39m\u001b[38;5;124mt let you open fd=\u001b[39m\u001b[38;5;132;01m{\u001b[39;00mfile\u001b[38;5;132;01m}\u001b[39;00m\u001b[38;5;124m by default \u001b[39m\u001b[38;5;124m\"\u001b[39m\n\u001b[1;32m    282\u001b[0m         \u001b[38;5;124m\"\u001b[39m\u001b[38;5;124mas it is likely to crash IPython. If you know what you are doing, \u001b[39m\u001b[38;5;124m\"\u001b[39m\n\u001b[1;32m    283\u001b[0m         \u001b[38;5;124m\"\u001b[39m\u001b[38;5;124myou can use builtins\u001b[39m\u001b[38;5;124m'\u001b[39m\u001b[38;5;124m open.\u001b[39m\u001b[38;5;124m\"\u001b[39m\n\u001b[1;32m    284\u001b[0m     )\n\u001b[0;32m--> 286\u001b[0m \u001b[38;5;28;01mreturn\u001b[39;00m \u001b[43mio_open\u001b[49m\u001b[43m(\u001b[49m\u001b[43mfile\u001b[49m\u001b[43m,\u001b[49m\u001b[43m \u001b[49m\u001b[38;5;241;43m*\u001b[39;49m\u001b[43margs\u001b[49m\u001b[43m,\u001b[49m\u001b[43m \u001b[49m\u001b[38;5;241;43m*\u001b[39;49m\u001b[38;5;241;43m*\u001b[39;49m\u001b[43mkwargs\u001b[49m\u001b[43m)\u001b[49m\n",
      "\u001b[0;31mFileNotFoundError\u001b[0m: [Errno 2] No such file or directory: 'testfile'"
     ]
    }
   ],
   "source": [
    "f = open('testfile','r')\n",
    "f.write('Test write this')"
   ]
  },
  {
   "cell_type": "code",
   "execution_count": 20,
   "id": "628bda7e",
   "metadata": {},
   "outputs": [
    {
     "name": "stdout",
     "output_type": "stream",
     "text": [
      "No se encuentra el archivo\n"
     ]
    }
   ],
   "source": [
    "try:\n",
    "    f = open('testfile','r')\n",
    "    f.write('Test write this')\n",
    "except FileNotFoundError:\n",
    "    print ('No se encuentra el archivo')\n",
    "\n",
    "    "
   ]
  },
  {
   "cell_type": "code",
   "execution_count": 17,
   "id": "a40502c3",
   "metadata": {},
   "outputs": [
    {
     "name": "stdout",
     "output_type": "stream",
     "text": [
      "Error: The file 'testfile' was not found.\n"
     ]
    }
   ],
   "source": [
    "try:\n",
    "    f = open('testfile', 'r')\n",
    "    f.write('Test write this')\n",
    "except FileNotFoundError:\n",
    "    print(\"Error: The file 'testfile' was not found.\")\n",
    "except PermissionError:\n",
    "    print(\"Error: Permission denied to write to the file.\")\n",
    "except IOError:\n",
    "    print(\"Error: An I/O error occurred.\")\n",
    "\n"
   ]
  },
  {
   "cell_type": "markdown",
   "id": "47207148",
   "metadata": {},
   "source": [
    "# Handle the exceptions that can be thrown by the code below using try and except blocks. "
   ]
  },
  {
   "cell_type": "code",
   "execution_count": 27,
   "id": "ce13125a",
   "metadata": {},
   "outputs": [
    {
     "ename": "IndentationError",
     "evalue": "expected an indented block after 'try' statement on line 1 (4070383741.py, line 2)",
     "output_type": "error",
     "traceback": [
      "\u001b[0;36m  Cell \u001b[0;32mIn[27], line 2\u001b[0;36m\u001b[0m\n\u001b[0;31m    fp = open('myfile.txt')\u001b[0m\n\u001b[0m    ^\u001b[0m\n\u001b[0;31mIndentationError\u001b[0m\u001b[0;31m:\u001b[0m expected an indented block after 'try' statement on line 1\n"
     ]
    }
   ],
   "source": [
    "    try:\n",
    "    fp = open('myfile.txt')\n",
    "        line = f.readline()\n",
    "        i = int(s.strip())\n",
    "    except  IndentationError::\n",
    "        print ('error de sangria')"
   ]
  },
  {
   "cell_type": "code",
   "execution_count": 32,
   "id": "f15d2812",
   "metadata": {},
   "outputs": [
    {
     "ename": "IndentationError",
     "evalue": "unexpected indent (3975734565.py, line 3)",
     "output_type": "error",
     "traceback": [
      "\u001b[0;36m  Cell \u001b[0;32mIn[32], line 3\u001b[0;36m\u001b[0m\n\u001b[0;31m    line = f.readline()\u001b[0m\n\u001b[0m    ^\u001b[0m\n\u001b[0;31mIndentationError\u001b[0m\u001b[0;31m:\u001b[0m unexpected indent\n"
     ]
    }
   ],
   "source": [
    "try:\n",
    "    fp = open('myfile.txt')\n",
    "        line = f.readline()\n",
    "        i = int(s.strip())\n",
    "except IndentationError:\n",
    "    print ('error de sangria')"
   ]
  },
  {
   "cell_type": "code",
   "execution_count": 28,
   "id": "b6bc1631",
   "metadata": {},
   "outputs": [],
   "source": [
    "import sys"
   ]
  },
  {
   "cell_type": "code",
   "execution_count": 29,
   "id": "9520e477",
   "metadata": {},
   "outputs": [
    {
     "ename": "AssertionError",
     "evalue": "Function can only run on Linux systems.",
     "output_type": "error",
     "traceback": [
      "\u001b[0;31m---------------------------------------------------------------------------\u001b[0m",
      "\u001b[0;31mAssertionError\u001b[0m                            Traceback (most recent call last)",
      "Cell \u001b[0;32mIn[29], line 4\u001b[0m\n\u001b[1;32m      2\u001b[0m     \u001b[38;5;28;01massert\u001b[39;00m (\u001b[38;5;124m'\u001b[39m\u001b[38;5;124mlinux\u001b[39m\u001b[38;5;124m'\u001b[39m \u001b[38;5;129;01min\u001b[39;00m sys\u001b[38;5;241m.\u001b[39mplatform), \u001b[38;5;124m\"\u001b[39m\u001b[38;5;124mFunction can only run on Linux systems.\u001b[39m\u001b[38;5;124m\"\u001b[39m\n\u001b[1;32m      3\u001b[0m     \u001b[38;5;28mprint\u001b[39m(\u001b[38;5;124m'\u001b[39m\u001b[38;5;124mDoing something.\u001b[39m\u001b[38;5;124m'\u001b[39m)\n\u001b[0;32m----> 4\u001b[0m \u001b[43mlinux_interaction\u001b[49m\u001b[43m(\u001b[49m\u001b[43m)\u001b[49m\n",
      "Cell \u001b[0;32mIn[29], line 2\u001b[0m, in \u001b[0;36mlinux_interaction\u001b[0;34m()\u001b[0m\n\u001b[1;32m      1\u001b[0m \u001b[38;5;28;01mdef\u001b[39;00m \u001b[38;5;21mlinux_interaction\u001b[39m():\n\u001b[0;32m----> 2\u001b[0m     \u001b[38;5;28;01massert\u001b[39;00m (\u001b[38;5;124m'\u001b[39m\u001b[38;5;124mlinux\u001b[39m\u001b[38;5;124m'\u001b[39m \u001b[38;5;129;01min\u001b[39;00m sys\u001b[38;5;241m.\u001b[39mplatform), \u001b[38;5;124m\"\u001b[39m\u001b[38;5;124mFunction can only run on Linux systems.\u001b[39m\u001b[38;5;124m\"\u001b[39m\n\u001b[1;32m      3\u001b[0m     \u001b[38;5;28mprint\u001b[39m(\u001b[38;5;124m'\u001b[39m\u001b[38;5;124mDoing something.\u001b[39m\u001b[38;5;124m'\u001b[39m)\n",
      "\u001b[0;31mAssertionError\u001b[0m: Function can only run on Linux systems."
     ]
    }
   ],
   "source": [
    "def linux_interaction():\n",
    "    assert ('linux' in sys.platform), \"Function can only run on Linux systems.\"\n",
    "    print('Doing something.')\n",
    "linux_interaction()"
   ]
  },
  {
   "cell_type": "code",
   "execution_count": 31,
   "id": "e15aff3f",
   "metadata": {},
   "outputs": [
    {
     "name": "stdout",
     "output_type": "stream",
     "text": [
      "Programa para linux únicamente\n"
     ]
    }
   ],
   "source": [
    "try:\n",
    "    def linux_interaction():\n",
    "        assert ('linux' in sys.platform), \"Function can only run on Linux systems.\"\n",
    "        print('Doing something.')\n",
    "    linux_interaction()\n",
    "\n",
    "except AssertionError:\n",
    "    print('Programa para linux únicamente')\n",
    "    "
   ]
  },
  {
   "cell_type": "code",
   "execution_count": 35,
   "id": "ac47b99a",
   "metadata": {},
   "outputs": [
    {
     "data": {
      "text/plain": [
       "<_io.TextIOWrapper name='../58585-0.txt' mode='r' encoding='UTF-8'>"
      ]
     },
     "execution_count": 35,
     "metadata": {},
     "output_type": "execute_result"
    }
   ],
   "source": [
    "# Run this code:\n",
    "\n",
    "location = '../58585-0.txt'\n",
    "with open(location, 'r', encoding=\"utf8\") as f:\n",
    "    prophet = f.read().split(' ')\n",
    "    \n",
    "open('../58585-0.txt')\n"
   ]
  },
  {
   "cell_type": "code",
   "execution_count": 38,
   "id": "9b628ad1",
   "metadata": {},
   "outputs": [],
   "source": [
    "def open_text_file(file_path):\n",
    "    try:\n",
    "        with open(file_path, 'r', encoding=\"utf8\") as f:\n",
    "            text_content = f.read()\n",
    "        return text_content\n",
    "    except FileNotFoundError:\n",
    "        return \"File not found\"\n",
    "    except Exception as e:\n",
    "        return f\"An error occurred: {str(e)}\"\n",
    "\n",
    "# Usage example\n",
    "file_path = '../58585-0.txt'\n",
    "text_content = open_text_file(file_path)\n",
    "\n",
    "if text_content != \"File not found\":\n",
    "    # Process or print the text content here\n",
    "    print(text_content[:500])  # Print the first 500 characters as an example\n",
    "else:\n",
    "    print(text_content)  # File not found message\n"
   ]
  },
  {
   "cell_type": "code",
   "execution_count": null,
   "id": "30e6ec75",
   "metadata": {},
   "outputs": [],
   "source": []
  }
 ],
 "metadata": {
  "kernelspec": {
   "display_name": "clase",
   "language": "python",
   "name": "clase"
  },
  "language_info": {
   "codemirror_mode": {
    "name": "ipython",
    "version": 3
   },
   "file_extension": ".py",
   "mimetype": "text/x-python",
   "name": "python",
   "nbconvert_exporter": "python",
   "pygments_lexer": "ipython3",
   "version": "3.10.13"
  }
 },
 "nbformat": 4,
 "nbformat_minor": 5
}
